{
  "nbformat": 4,
  "nbformat_minor": 0,
  "metadata": {
    "kernelspec": {
      "display_name": "Python 3",
      "language": "python",
      "name": "python3"
    },
    "language_info": {
      "codemirror_mode": {
        "name": "ipython",
        "version": 3
      },
      "file_extension": ".py",
      "mimetype": "text/x-python",
      "name": "python",
      "nbconvert_exporter": "python",
      "pygments_lexer": "ipython3",
      "version": "3.7.6"
    },
    "colab": {
      "name": "02_ML_basic.ipynb",
      "provenance": [],
      "include_colab_link": true
    }
  },
  "cells": [
    {
      "cell_type": "markdown",
      "metadata": {
        "id": "view-in-github",
        "colab_type": "text"
      },
      "source": [
        "<a href=\"https://colab.research.google.com/github/roiei/roiei.github.io/blob/main/02_ML_basic.ipynb\" target=\"_parent\"><img src=\"https://colab.research.google.com/assets/colab-badge.svg\" alt=\"Open In Colab\"/></a>"
      ]
    },
    {
      "cell_type": "code",
      "metadata": {
        "id": "WKcdmLPeqfsG"
      },
      "source": [
        "import random\n",
        "import collections\n",
        "import os, math\n",
        "import time\n",
        "from util import *\n",
        "\n",
        "import matplotlib\n",
        "import matplotlib.pyplot as plt\n",
        "import numpy as np\n",
        "matplotlib.use('agg')\n",
        "\n",
        "_X_ = None"
      ],
      "execution_count": 6,
      "outputs": []
    },
    {
      "cell_type": "code",
      "metadata": {
        "id": "Zf-Uw_3OrC8Q"
      },
      "source": [
        ""
      ],
      "execution_count": null,
      "outputs": []
    },
    {
      "cell_type": "markdown",
      "metadata": {
        "id": "vRBtYDDCqfsP"
      },
      "source": [
        "# Problem B"
      ]
    },
    {
      "cell_type": "code",
      "metadata": {
        "id": "vJEr6_vyqfsQ"
      },
      "source": [
        "def extractWordFeatures(x):\n",
        "    \"\"\"\n",
        "    Extract word features for a string x. Words are delimited by\n",
        "    whitespace characters only.\n",
        "    @param string x: \n",
        "    @return dict: feature vector representation of x.\n",
        "    Example: \"I am what I am\" --> {'I': 2, 'am': 2, 'what': 1}\n",
        "    \"\"\"\n",
        "    res = {}\n",
        "    for word in x.split():\n",
        "      if word not in res:\n",
        "        res[word] = 0\n",
        "      res[word] += 1\n",
        "    return res"
      ],
      "execution_count": 25,
      "outputs": []
    },
    {
      "cell_type": "code",
      "metadata": {
        "colab": {
          "base_uri": "https://localhost:8080/"
        },
        "id": "UqSBg4roqfsQ",
        "outputId": "15fb04aa-6011-482d-bb4a-b0e94389a58f"
      },
      "source": [
        "print('========== Problem B ==========')\n",
        "print('---------- Test b0 ----------')\n",
        "output = extractWordFeatures(\"a b a\")\n",
        "answer = {\"a\":2, \"b\":1}\n",
        "print(\"output : %s\" % output)\n",
        "print(\"answer : %s\" % answer)"
      ],
      "execution_count": 26,
      "outputs": [
        {
          "output_type": "stream",
          "text": [
            "========== Problem B ==========\n",
            "---------- Test b0 ----------\n",
            "output : {'a': 2, 'b': 1}\n",
            "answer : {'a': 2, 'b': 1}\n"
          ],
          "name": "stdout"
        }
      ]
    },
    {
      "cell_type": "code",
      "metadata": {
        "colab": {
          "base_uri": "https://localhost:8080/"
        },
        "id": "VxrFqjYVqfsR",
        "outputId": "7aac8235-ace6-4ec2-8523-35f8745eb01a"
      },
      "source": [
        "print('---------- Test b1 ----------')\n",
        "random.seed(42)\n",
        "for i in range(10):\n",
        "    sentence = ' '.join([random.choice(['a', 'aa', 'ab', 'b', 'c']) for _ in range(100)])\n",
        "output = extractWordFeatures(sentence)\n",
        "print(\"output : %s\" % output)\n",
        "print(\"answer : %s\" % \"{'ab': 20, 'a': 20, 'aa': 15, 'c': 19, 'b': 26}\")"
      ],
      "execution_count": 27,
      "outputs": [
        {
          "output_type": "stream",
          "text": [
            "---------- Test b1 ----------\n",
            "output : {'ab': 20, 'a': 20, 'aa': 15, 'c': 19, 'b': 26}\n",
            "answer : {'ab': 20, 'a': 20, 'aa': 15, 'c': 19, 'b': 26}\n"
          ],
          "name": "stdout"
        }
      ]
    },
    {
      "cell_type": "markdown",
      "metadata": {
        "id": "YPbGZLC-qfsR"
      },
      "source": [
        "# Problem C"
      ]
    },
    {
      "cell_type": "code",
      "metadata": {
        "id": "HvWG4XgoqfsR"
      },
      "source": [
        "def learnPredictor(trainExamples, testExamples, featureExtractor, numIters, eta):\n",
        "    '''\n",
        "    Given |trainExamples| and |testExamples| (each one is a list of (x,y)\n",
        "    pairs), a |featureExtractor| to apply to x, and the number of iterations to\n",
        "    train |numIters|, the step size |eta|, return the weight vector (sparse\n",
        "    feature vector) learned, and error values lists for train and test datasets\n",
        "\n",
        "    You should implement stochastic gradient descent.\n",
        "\n",
        "    Note: only use the trainExamples for training!\n",
        "    You should call evaluatePredictor() on both trainExamples and testExamples\n",
        "    to see how you're doing as you learn after each iteration.\n",
        "    '''\n",
        "    weights = {}\n",
        "    trainErrorList = []\n",
        "    testErrorList = []\n",
        "\n",
        "    def predictor(x):\n",
        "        phi = featureExtractor(x)\n",
        "        if dotProduct(weights, phi) >= 0:\n",
        "          y = 1\n",
        "        else:\n",
        "          y = -1\n",
        "        return y\n",
        "\n",
        "    for t in range(numIters):\n",
        "        for trainExample in trainExamples:\n",
        "            x, y = trainExample\n",
        "            phi = featureExtractor(x)\n",
        "\n",
        "            # loss = max(0, 1 - w ⋅ 𝜙(x)y))\n",
        "            loss = max(0, 1 - dotProduct(phi, weights)*y)\n",
        "\n",
        "            # update the weight vector\n",
        "            if loss > 0:              \n",
        "                # w <- w + 𝜂𝜙(x)y                \n",
        "                increment(weights, eta*y, phi)  # 'increment' is defined in util.py\n",
        "\n",
        "        train_error = evaluatePredictor(trainExamples, predictor)\n",
        "        test_error = evaluatePredictor(testExamples, predictor)\n",
        "        print(\"%d-th iteration: train error = %.2f, test error = %.2f\"% \\\n",
        "              (t, train_error, test_error))\n",
        "        \n",
        "        trainErrorList.append(train_error)\n",
        "        testErrorList.append(test_error)\n",
        "\n",
        "    # END_YOUR_CODE\n",
        "\n",
        "    return weights, trainErrorList, testErrorList"
      ],
      "execution_count": 72,
      "outputs": []
    },
    {
      "cell_type": "code",
      "metadata": {
        "colab": {
          "base_uri": "https://localhost:8080/"
        },
        "id": "KliFb720qfsS",
        "outputId": "645e0574-a3d8-4c59-fd67-ec9f86163e36"
      },
      "source": [
        "print('========== Problem C ==========')\n",
        "print('---------- Test c0 ----------')\n",
        "trainExamples = ((\"pretty good\", 1), (\"bad plot\", -1), (\"not good\", -1), (\"pretty scenery\", 1))\n",
        "testExamples = ((\"pretty\", 1), (\"bad\", -1))\n",
        "weights, _, _ = learnPredictor(trainExamples, testExamples, extractWordFeatures, numIters=1, eta=1)\n",
        "print(weights)"
      ],
      "execution_count": 73,
      "outputs": [
        {
          "output_type": "stream",
          "text": [
            "========== Problem C ==========\n",
            "---------- Test c0 ----------\n",
            "0-th iteration: train error = 0.00, test error = 0.00\n",
            "{'pretty': 1, 'good': 0, 'bad': -1, 'plot': -1, 'not': -1}\n"
          ],
          "name": "stdout"
        }
      ]
    },
    {
      "cell_type": "code",
      "metadata": {
        "colab": {
          "base_uri": "https://localhost:8080/"
        },
        "id": "hvD07T7PqfsS",
        "outputId": "6fa0e8fa-20b3-4794-e7b2-408a81074959"
      },
      "source": [
        "print('---------- Test c1 ----------')\n",
        "trainExamples = ((\"hello world\", 1), (\"goodnight moon\", -1))\n",
        "testExamples = ((\"hello\", 1), (\"moon\", -1))\n",
        "weights, _, _ = learnPredictor(trainExamples, testExamples, extractWordFeatures, numIters=20, eta=0.01)\n",
        "print(\"weight for `hello\\' : %f (should > 0)\" % weights['hello'])\n",
        "print(\"weight for `moon\\' : %f (should < 0)\" % weights['moon'])"
      ],
      "execution_count": 74,
      "outputs": [
        {
          "output_type": "stream",
          "text": [
            "---------- Test c1 ----------\n",
            "0-th iteration: train error = 0.00, test error = 0.00\n",
            "1-th iteration: train error = 0.00, test error = 0.00\n",
            "2-th iteration: train error = 0.00, test error = 0.00\n",
            "3-th iteration: train error = 0.00, test error = 0.00\n",
            "4-th iteration: train error = 0.00, test error = 0.00\n",
            "5-th iteration: train error = 0.00, test error = 0.00\n",
            "6-th iteration: train error = 0.00, test error = 0.00\n",
            "7-th iteration: train error = 0.00, test error = 0.00\n",
            "8-th iteration: train error = 0.00, test error = 0.00\n",
            "9-th iteration: train error = 0.00, test error = 0.00\n",
            "10-th iteration: train error = 0.00, test error = 0.00\n",
            "11-th iteration: train error = 0.00, test error = 0.00\n",
            "12-th iteration: train error = 0.00, test error = 0.00\n",
            "13-th iteration: train error = 0.00, test error = 0.00\n",
            "14-th iteration: train error = 0.00, test error = 0.00\n",
            "15-th iteration: train error = 0.00, test error = 0.00\n",
            "16-th iteration: train error = 0.00, test error = 0.00\n",
            "17-th iteration: train error = 0.00, test error = 0.00\n",
            "18-th iteration: train error = 0.00, test error = 0.00\n",
            "19-th iteration: train error = 0.00, test error = 0.00\n",
            "weight for `hello' : 0.200000 (should > 0)\n",
            "weight for `moon' : -0.200000 (should < 0)\n"
          ],
          "name": "stdout"
        }
      ]
    },
    {
      "cell_type": "code",
      "metadata": {
        "colab": {
          "base_uri": "https://localhost:8080/"
        },
        "id": "-EW8xWvMqfsT",
        "outputId": "aa915fc1-42a8-43e7-dd8f-bc8bbc30479d"
      },
      "source": [
        "polarity_train_path = os.path.join('data', 'polarity.train')\n",
        "polarity_dev_path = os.path.join('data', 'polarity.dev')\n",
        "\n",
        "print('---------- Test c2 ----------')\n",
        "trainExamples = readExamples(polarity_train_path)\n",
        "testExamples = readExamples(polarity_dev_path)\n",
        "\n",
        "weights, trainErrorsUnigram, testErrorsUnigram = learnPredictor(trainExamples, testExamples, extractWordFeatures, numIters=20, eta=0.01)\n",
        "\n",
        "outputWeights(weights, os.path.join('result', 'weights'))\n",
        "outputErrorAnalysis(testExamples, extractWordFeatures, weights, os.path.join('result', 'error-analysis'))  # Use this to debug\n",
        "\n",
        "trainError = evaluatePredictor(trainExamples, lambda x : (1 if dotProduct(extractWordFeatures(x), weights) >= 0 else -1))\n",
        "testError = evaluatePredictor(testExamples, lambda x : (1 if dotProduct(extractWordFeatures(x), weights) >= 0 else -1))\n",
        "\n",
        "print(\"Final train error = %s (should < 0.04)\" % trainError)\n",
        "print(\"Final test error = %s (should < 0.30)\" % testError)"
      ],
      "execution_count": 75,
      "outputs": [
        {
          "output_type": "stream",
          "text": [
            "---------- Test c2 ----------\n",
            "Read 3554 examples from data/polarity.train\n",
            "Read 3554 examples from data/polarity.dev\n",
            "0-th iteration: train error = 0.29, test error = 0.35\n",
            "1-th iteration: train error = 0.22, test error = 0.33\n",
            "2-th iteration: train error = 0.18, test error = 0.31\n",
            "3-th iteration: train error = 0.15, test error = 0.30\n",
            "4-th iteration: train error = 0.13, test error = 0.29\n",
            "5-th iteration: train error = 0.11, test error = 0.29\n",
            "6-th iteration: train error = 0.10, test error = 0.29\n",
            "7-th iteration: train error = 0.08, test error = 0.28\n",
            "8-th iteration: train error = 0.08, test error = 0.28\n",
            "9-th iteration: train error = 0.07, test error = 0.28\n",
            "10-th iteration: train error = 0.06, test error = 0.28\n",
            "11-th iteration: train error = 0.06, test error = 0.28\n",
            "12-th iteration: train error = 0.05, test error = 0.27\n",
            "13-th iteration: train error = 0.05, test error = 0.28\n",
            "14-th iteration: train error = 0.05, test error = 0.28\n",
            "15-th iteration: train error = 0.04, test error = 0.27\n",
            "16-th iteration: train error = 0.04, test error = 0.28\n",
            "17-th iteration: train error = 0.04, test error = 0.28\n",
            "18-th iteration: train error = 0.03, test error = 0.27\n",
            "19-th iteration: train error = 0.03, test error = 0.27\n",
            "11215 weights\n",
            "Final train error = 0.025042205965109737 (should < 0.04)\n",
            "Final test error = 0.2737760270118177 (should < 0.30)\n"
          ],
          "name": "stdout"
        }
      ]
    },
    {
      "cell_type": "markdown",
      "metadata": {
        "id": "r1eGOqPMqfsT"
      },
      "source": [
        "# Problem D"
      ]
    },
    {
      "cell_type": "code",
      "metadata": {
        "id": "GnmdOy4H94qm"
      },
      "source": [
        "%matplotlib inline"
      ],
      "execution_count": 77,
      "outputs": []
    },
    {
      "cell_type": "code",
      "metadata": {
        "colab": {
          "base_uri": "https://localhost:8080/",
          "height": 313
        },
        "id": "jGM5h1GpqfsT",
        "outputId": "f422d9c1-967a-4848-8f86-f65f0dd43790"
      },
      "source": [
        "print('========== Problem D ==========')\n",
        "visualizePredictorError(trainErrorsUnigram, testErrorsUnigram)"
      ],
      "execution_count": 78,
      "outputs": [
        {
          "output_type": "stream",
          "text": [
            "========== Problem D ==========\n"
          ],
          "name": "stdout"
        },
        {
          "output_type": "display_data",
          "data": {
            "image/png": "[encoded data removed]",
            "text/plain": [
              "<Figure size 432x288 with 1 Axes>"
            ]
          },
          "metadata": {
            "tags": [],
            "needs_background": "light"
          }
        }
      ]
    },
    {
      "cell_type": "markdown",
      "metadata": {
        "id": "qBVrFjIyqfsU"
      },
      "source": [
        "# Problem F"
      ]
    },
    {
      "cell_type": "code",
      "metadata": {
        "id": "jOAa92ZTqfsU"
      },
      "source": [
        "# Problem F: extractBigramFeatures Problem\n",
        "def extractBigramFeatures(x, n_gram=2):\n",
        "    \"\"\"\n",
        "    Extract unigram(word) and bigram features for a string x.\n",
        "    @param string x: \n",
        "    @return dict: feature vector representation of x.\n",
        "    Example: \"I am what I am\" --> {('am', 'what'): 1, 'what': 1, ('I', 'am'): 2, 'I': 2, ('what', 'I'): 1, 'am': 2, ('<s>', 'I'): 1, ('am', '</s>'): 1}\n",
        "    \"\"\"\n",
        "    phi = extractWordFeatures(x)\n",
        "    x = '<s> ' + x + ' </s>'\n",
        "\n",
        "    words = x.split()\n",
        "    for i in range(len(words) - n_gram):\n",
        "      pair = tuple(words[i:i + n_gram])\n",
        "      #pair = (words[i], words[i + 1], words[i + 2])\n",
        "      phi[pair] = phi.get(pair, 0) + 1\n",
        "    \n",
        "    n_gram = 3\n",
        "    for i in range(len(words) - n_gram):\n",
        "      pair = tuple(words[i:i + n_gram])\n",
        "      #pair = (words[i], words[i + 1], words[i + 2])\n",
        "      phi[pair] = phi.get(pair, 0) + 1\n",
        "\n",
        "    return phi"
      ],
      "execution_count": 95,
      "outputs": []
    },
    {
      "cell_type": "code",
      "metadata": {
        "colab": {
          "base_uri": "https://localhost:8080/"
        },
        "id": "mGrXyEbtC3gA",
        "outputId": "2d50c48c-5758-4b07-9300-1d66fe7b5172"
      },
      "source": [
        "extractBigramFeatures(\"I am what I am\")"
      ],
      "execution_count": 96,
      "outputs": [
        {
          "output_type": "execute_result",
          "data": {
            "text/plain": [
              "{('<s>', 'I'): 1,\n",
              " ('<s>', 'I', 'am'): 1,\n",
              " ('I', 'am'): 2,\n",
              " ('I', 'am', 'what'): 1,\n",
              " ('am', 'what'): 1,\n",
              " ('am', 'what', 'I'): 1,\n",
              " ('what', 'I'): 1,\n",
              " ('what', 'I', 'am'): 1,\n",
              " 'I': 2,\n",
              " 'am': 2,\n",
              " 'what': 1}"
            ]
          },
          "metadata": {
            "tags": []
          },
          "execution_count": 96
        }
      ]
    },
    {
      "cell_type": "code",
      "metadata": {
        "colab": {
          "base_uri": "https://localhost:8080/"
        },
        "id": "w8s5Va_4qfsU",
        "outputId": "341a3479-137c-4a9d-c9f2-be94ac70bdf2"
      },
      "source": [
        "print('========== Problem F ==========')\n",
        "print('---------- Test f0 ----------')\n",
        "\n",
        "trainExamples = readExamples(polarity_train_path)\n",
        "testExamples = readExamples(polarity_dev_path)\n",
        "\n",
        "weightsBigram, trainErrorsBigram, testErrorsBigram = learnPredictor(trainExamples, testExamples, extractBigramFeatures,numIters=20, eta=0.01)\n",
        "outputWeights(weightsBigram, os.path.join('result', 'weights-bigram'))\n",
        "\n",
        "outputErrorAnalysis(testExamples, extractBigramFeatures, weightsBigram, os.path.join('result', 'error-analysis-bigram'))  # Use this to debug\n",
        "\n",
        "trainErrorBigram = evaluatePredictor(trainExamples, lambda x: (1 if dotProduct(extractBigramFeatures(x), weightsBigram) >= 0 else -1))\n",
        "testErrorBigram = evaluatePredictor(testExamples,lambda x: (1 if dotProduct(extractBigramFeatures(x), weightsBigram) >= 0 else -1))\n",
        "\n",
        "print(\"Final train error = %s (should < 0.04)\" % trainErrorBigram)\n",
        "print(\"Final test error = %s (should < 0.27)\" % testErrorBigram)"
      ],
      "execution_count": 97,
      "outputs": [
        {
          "output_type": "stream",
          "text": [
            "========== Problem F ==========\n",
            "---------- Test f0 ----------\n",
            "Read 3554 examples from data/polarity.train\n",
            "Read 3554 examples from data/polarity.dev\n",
            "0-th iteration: train error = 0.14, test error = 0.33\n",
            "1-th iteration: train error = 0.03, test error = 0.30\n",
            "2-th iteration: train error = 0.01, test error = 0.29\n",
            "3-th iteration: train error = 0.00, test error = 0.28\n",
            "4-th iteration: train error = 0.00, test error = 0.27\n",
            "5-th iteration: train error = 0.00, test error = 0.27\n",
            "6-th iteration: train error = 0.00, test error = 0.26\n",
            "7-th iteration: train error = 0.00, test error = 0.27\n",
            "8-th iteration: train error = 0.00, test error = 0.27\n",
            "9-th iteration: train error = 0.00, test error = 0.26\n",
            "10-th iteration: train error = 0.00, test error = 0.26\n",
            "11-th iteration: train error = 0.00, test error = 0.26\n",
            "12-th iteration: train error = 0.00, test error = 0.26\n",
            "13-th iteration: train error = 0.00, test error = 0.26\n",
            "14-th iteration: train error = 0.00, test error = 0.26\n",
            "15-th iteration: train error = 0.00, test error = 0.26\n",
            "16-th iteration: train error = 0.00, test error = 0.27\n",
            "17-th iteration: train error = 0.00, test error = 0.26\n",
            "18-th iteration: train error = 0.00, test error = 0.26\n",
            "19-th iteration: train error = 0.00, test error = 0.26\n",
            "117548 weights\n",
            "Final train error = 0.0 (should < 0.04)\n",
            "Final test error = 0.25998874507597075 (should < 0.27)\n"
          ],
          "name": "stdout"
        }
      ]
    },
    {
      "cell_type": "markdown",
      "metadata": {
        "id": "6mU_jfPRqfsU"
      },
      "source": [
        "# Problem G"
      ]
    },
    {
      "cell_type": "code",
      "metadata": {
        "colab": {
          "base_uri": "https://localhost:8080/",
          "height": 299
        },
        "id": "7OrYeoGYqfsV",
        "outputId": "21c90881-77ab-485b-d317-c2d9e6bbac6e"
      },
      "source": [
        "print('========== Problem G ==========')\n",
        "visualizeUnigramAndBigram(trainErrorsUnigram, testErrorsUnigram, trainErrorsBigram, testErrorsBigram)"
      ],
      "execution_count": 83,
      "outputs": [
        {
          "output_type": "stream",
          "text": [
            "========== Problem G ==========\n"
          ],
          "name": "stdout"
        },
        {
          "output_type": "display_data",
          "data": {
            "image/png": "[encoded data removed]",
            "text/plain": [
              "<Figure size 432x288 with 1 Axes>"
            ]
          },
          "metadata": {
            "tags": [],
            "needs_background": "light"
          }
        }
      ]
    },
    {
      "cell_type": "markdown",
      "metadata": {
        "id": "-NKniKUAqfsV"
      },
      "source": [
        "# Problem K"
      ]
    },
    {
      "cell_type": "code",
      "metadata": {
        "id": "8PqZvZYGqfsW"
      },
      "source": [
        "def kmeans(examples, K, maxIters):\n",
        "    '''\n",
        "    examples: list of examples, each example is a string-to-double dict representing a sparse vector.\n",
        "    K: number of desired clusters. Assume that 0 < K <= |examples|.\n",
        "    maxIters: maximum number of iterations to run for (you should terminate early if the algorithm converges).\n",
        "    Return: (length K list of cluster centroids,\n",
        "            list of assignments, (i.e. if examples[i] belongs to centers[j], then assignments[i] = j)\n",
        "            final reconstruction loss)\n",
        "    '''\n",
        "    # BEGIN_YOUR_CODE\n",
        "    raise NotImplementedError\n",
        "    centers = random.sample(examples, K)\n",
        "    assignments = None\n",
        "\n",
        "    def get_l2_loss(cluster_id, example):\n",
        "        center = centers[cluster_id]\n",
        "        features = set(list(center.keys()) + list(example.keys()))\n",
        "        return sum((center.get(feature, 0) - example.get(feature, 0)) ** 2 for feature in features)\n",
        "\n",
        "    def vec_sum(vectors):\n",
        "        total = {}\n",
        "        for vec in vectors:\n",
        "            increment(total, 1., vec)\n",
        "        return total\n",
        "\n",
        "    def vec_div(vec, scalar):\n",
        "        return {feature: value / scalar for feature, value in vec.items()}\n",
        "\n",
        "    for iter_cnt in range(maxIters):\n",
        "        prev_assignments = assignments\n",
        "        assignments = [0] * len(examples)\n",
        "\n",
        "        # update assignments\n",
        "        for example_id, example in enumerate(examples):\n",
        "            assignments[example_id] = min(range(K),\n",
        "                                          key=lambda x: _X_)  # use 'get_l2_loss'\n",
        "        # terminate when converging\n",
        "        if _X_:\n",
        "            print('k-means converged')\n",
        "            break\n",
        "\n",
        "        # update centers\n",
        "        clusters = [[] for _ in range(K)]\n",
        "        for example_id, example in enumerate(examples):\n",
        "            cluster_id = _X_  # use 'assignments'\n",
        "            clusters[cluster_id].append(example)\n",
        " \n",
        "        centers = [_X_  # use 'vec_div' and 'vec_sum'\n",
        "                   for cluster in clusters]\n",
        "\n",
        "    else:\n",
        "        print('max iteration')\n",
        "\n",
        "    loss = 0\n",
        "    for example_id, example in enumerate(examples):\n",
        "        loss += get_l2_loss(assignments[example_id], example)\n",
        "\n",
        "    # END_YOUR_CODE\n",
        "    return centers, assignments, loss"
      ],
      "execution_count": null,
      "outputs": []
    },
    {
      "cell_type": "code",
      "metadata": {
        "id": "pNORSVvVqfsW"
      },
      "source": [
        "print('========== Problem K ==========')\n",
        "print('---------- Test k0 ----------')\n",
        "random.seed(42)\n",
        "x1 = {0:0, 1:0} # x1 => (0, 0)\n",
        "x2 = {0:0, 1:1} # x2 => (0, 1)\n",
        "x3 = {0:0, 1:2} # x3 => (0, 2)\n",
        "x4 = {0:0, 1:3} # x4 => (0, 3)\n",
        "x5 = {0:0, 1:4} # x5 => (0, 4)\n",
        "x6 = {0:0, 1:5} # x6 => (0, 5)\n",
        "examples = [x1, x2, x3, x4, x5, x6]\n",
        "\n",
        "centers, assignments, totalCost = kmeans(examples, 2, maxIters=10)\n",
        "# (there are two stable centroid locations)\n",
        "print(centers)\n",
        "print(assignments)\n",
        "print(\"output square loss : %.1f\" % totalCost)\n",
        "print(\"answer square loss : 4.0 or 5.5\")"
      ],
      "execution_count": null,
      "outputs": []
    },
    {
      "cell_type": "code",
      "metadata": {
        "id": "vc51qfLrqfsX"
      },
      "source": [
        "print('---------- Test k1 ----------')\n",
        "K = 6\n",
        "numExamples = 1000\n",
        "numFillerWords = 1000\n",
        "testClustering(kmeans, K, numExamples, numFillerWords)"
      ],
      "execution_count": null,
      "outputs": []
    },
    {
      "cell_type": "code",
      "metadata": {
        "id": "GVbH9ofHqfsX"
      },
      "source": [
        "print('---------- Test k2 ----------')\n",
        "K = 6\n",
        "numExamples = 10000\n",
        "numFillerWords = 10000\n",
        "testClustering(kmeans, K, numExamples, numFillerWords)  # 200 seconds in my PC"
      ],
      "execution_count": null,
      "outputs": []
    },
    {
      "cell_type": "code",
      "metadata": {
        "id": "OVyKgqcdqfsY"
      },
      "source": [
        "print('---------- Test k3 ----------')\n",
        "texts = ['I like apple', 'I like orange', 'I hate math', 'I hate python']\n",
        "examples = [{word: 1 for word in text.split()} for text in texts]\n",
        "\n",
        "centers, assignments, totalCost = kmeans(examples, 2, maxIters=10)\n",
        "print(centers)\n",
        "print(assignments)"
      ],
      "execution_count": null,
      "outputs": []
    },
    {
      "cell_type": "markdown",
      "metadata": {
        "id": "hd3ZMHRHqfsY"
      },
      "source": [
        "# Problem L"
      ]
    },
    {
      "cell_type": "code",
      "metadata": {
        "id": "WJ5oxB4gqfsY"
      },
      "source": [
        "print('========== Problem L ==========')\n",
        "# x1 = {0:0, 1:0} # x1 => (0, 0)\n",
        "# x2 = {0:0, 1:1} # x2 => (0, 1)\n",
        "# x3 = {0:2, 1:0} # x3 => (2, 0)\n",
        "# x4 = {0:2, 1:1} # x4 => (2, 1)\n",
        "# simple_examples = [x1, x2, x3, x4]\n",
        "np.random.seed(10)\n",
        "example_array = np.append(np.random.multivariate_normal(mean=(2, 2), cov=((1, 0), (0, 1)), size=30),\n",
        "                          np.random.multivariate_normal(mean=(-2, -2), cov=((1, 0), (0, 1)), size=30),\n",
        "                          axis=0)\n",
        "examples = [{0: ex[0], 1: ex[1]} for ex in example_array]\n",
        "centers, assignments, totalCost = kmeans(examples, 2, maxIters=10)\n",
        "\n",
        "visualizeClusters(examples, assignments, centers)"
      ],
      "execution_count": null,
      "outputs": []
    },
    {
      "cell_type": "markdown",
      "metadata": {
        "id": "UwyE-R0yqfsY"
      },
      "source": [
        "# Problem M"
      ]
    },
    {
      "cell_type": "code",
      "metadata": {
        "id": "2aD03F2hqfsZ"
      },
      "source": [
        "def kmeans_optimized(examples, K, maxIters):\n",
        "    '''\n",
        "    examples: list of examples, each example is a string-to-double dict representing a sparse vector.\n",
        "    K: number of desired clusters. Assume that 0 < K <= |examples|.\n",
        "    maxIters: maximum number of iterations to run for (you should terminate early if the algorithm converges).\n",
        "    Return: (length K list of cluster centroids,\n",
        "            list of assignments, (i.e. if examples[i] belongs to centers[j], then assignments[i] = j)\n",
        "            final reconstruction loss)\n",
        "    '''\n",
        "    # BEGIN_YOUR_CODE\n",
        "    raise NotImplementedError\n",
        "    # END_YOUR_CODE\n",
        "    return centers, assignments, loss"
      ],
      "execution_count": null,
      "outputs": []
    },
    {
      "cell_type": "code",
      "metadata": {
        "id": "7p41Qu4jqfsZ"
      },
      "source": [
        "print('========== Problem M ==========')\n",
        "K = 6\n",
        "numExamples = 10000\n",
        "numFillerWords = 10000\n",
        "testClustering(kmeans_optimized, K, numExamples, numFillerWords)"
      ],
      "execution_count": null,
      "outputs": []
    }
  ]
}